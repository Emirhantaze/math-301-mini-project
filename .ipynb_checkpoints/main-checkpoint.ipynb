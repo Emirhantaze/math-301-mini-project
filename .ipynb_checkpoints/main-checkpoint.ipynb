{
 "cells": [
  {
   "cell_type": "markdown",
   "metadata": {},
   "source": [
    "<div style='padding-top:10px;\n",
    "            height:50px; \n",
    "            background:gray; \n",
    "            display:flex; \n",
    "            flex-direction:column; \n",
    "            font-size:30px'>\n",
    "<div>     \n",
    "<div style=\"border-bottom: 5px dotted cyan\">\n",
    "> Dependencies are imported\n"
   ]
  },
  {
   "cell_type": "code",
   "execution_count": 4,
   "metadata": {},
   "outputs": [],
   "source": [
    "import matplotlib.pyplot as plt\n",
    "import numpy as np"
   ]
  },
  {
   "cell_type": "markdown",
   "metadata": {},
   "source": [
    "<div style='height:50px; \n",
    "            background:gray; \n",
    "            display:flex; \n",
    "            flex-direction:column; \n",
    "            font-size:30px'>\n",
    "<div>     \n",
    "<div style=\"border-bottom: 5px dotted cyan\">\n",
    "> Function Definitions\n"
   ]
  },
  {
   "cell_type": "code",
   "execution_count": 5,
   "metadata": {},
   "outputs": [],
   "source": [
    "def selectElementFromList(List,isListChange=False):\n",
    "    lengthOfList = len(List)\n",
    "    randomSelectedIndex = np.random.randint(0,lengthOfList)\n",
    "    if(isListChange):\n",
    "        List.pop(randomSelectedIndex)   \n",
    "        return randomSelectedIndex\n",
    "    else:\n",
    "        return randomSelectedIndex\n"
   ]
  },
  {
   "cell_type": "markdown",
   "metadata": {},
   "source": [
    "<div style='height:50px; \n",
    "            background:gray; \n",
    "            display:flex; \n",
    "            flex-direction:column; \n",
    "            font-size:30px'>\n",
    "<div>     \n",
    "<div style=\"border-bottom: 5px dotted cyan\">\n",
    "> First Section"
   ]
  },
  {
   "cell_type": "code",
   "execution_count": 6,
   "metadata": {},
   "outputs": [
    {
     "name": "stdout",
     "output_type": "stream",
     "text": [
      "[2, 3]\n"
     ]
    }
   ],
   "source": [
    "List = [1,2,3]\n",
    "i = selectElementFromList(List,True); \n",
    "print(List)"
   ]
  },
  {
   "cell_type": "code",
   "execution_count": null,
   "metadata": {},
   "outputs": [],
   "source": []
  }
 ],
 "metadata": {
  "kernelspec": {
   "display_name": "Python 3.8.2 64-bit",
   "language": "python",
   "name": "python38264bit6fc4200777c1425ead1913d00d24f15b"
  },
  "language_info": {
   "codemirror_mode": {
    "name": "ipython",
    "version": 3
   },
   "file_extension": ".py",
   "mimetype": "text/x-python",
   "name": "python",
   "nbconvert_exporter": "python",
   "pygments_lexer": "ipython3",
   "version": "3.8.2"
  }
 },
 "nbformat": 4,
 "nbformat_minor": 2
}
