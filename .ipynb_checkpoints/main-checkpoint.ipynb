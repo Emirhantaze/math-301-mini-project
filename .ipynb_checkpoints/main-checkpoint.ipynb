{
 "cells": [
  {
   "cell_type": "markdown",
   "metadata": {},
   "source": [
    "# > Dependencies are imported"
   ]
  },
  {
   "cell_type": "code",
   "execution_count": null,
   "metadata": {},
   "outputs": [],
   "source": [
    "import matplotlib.pyplot as plt\n",
    "import numpy as np\n",
    "import pandas as pd\n",
    "import scipy.io as sc"
   ]
  },
  {
   "cell_type": "markdown",
   "metadata": {},
   "source": [
    "# > Function Definitions"
   ]
  },
  {
   "cell_type": "code",
   "execution_count": null,
   "metadata": {},
   "outputs": [],
   "source": [
    "def selectElementFromList(List,isListChange=False):\n",
    "    lengthOfList = len(List)\n",
    "    randomSelectedIndex = np.random.randint(0,lengthOfList)\n",
    "    if(isListChange):\n",
    "        randomSelectedElement = List.pop(randomSelectedIndex)\n",
    "        return randomSelectedElement\n",
    "    else:\n",
    "        return List[randomSelectedIndex]\n",
    "\n",
    "def calculateVariance(List:list, expectedValue:float):\n",
    "    \"\"\"\n",
    "    formula is sum/size\n",
    "    sum is sumatian of square of difference of each element with expected value\n",
    "    \"\"\"\n",
    "    size = len(List) # initiating size varible to use it w,th  sum\n",
    "    sum = 0 # innitiating sum varible to use it on variance\n",
    "    for element in List:\n",
    "        temp = element - expectedValue\n",
    "        sum += temp**2\n",
    "    return (sum/size);\n",
    "def flipCoin(p = 0.5):\n",
    "    randomNumber = np.random.uniform(0,1);\n",
    "    if(p<randomNumber):\n",
    "        return True;\n",
    "    else:\n",
    "        return False;\n",
    "            \n"
   ]
  },
  {
   "cell_type": "markdown",
   "metadata": {},
   "source": [
    "# > First Section"
   ]
  },
  {
   "cell_type": "code",
   "execution_count": null,
   "metadata": {},
   "outputs": [],
   "source": [
    "List = [1,2,3,4,5,6,7,8,9,10]\n",
    "isContinue = True\n",
    "# main loop \n",
    "while(isContinue):\n",
    "    N = input(\"what is N: \") # Requesting N from User\n",
    "    i = 0 \n",
    "    selectedElements = []\n",
    "    table = [[],[],[]]\n",
    "    while(i<int(N)):\n",
    "        \"\"\"\n",
    "        main flow of loop\n",
    "        first use selectElementFromlist() for removing one varible\n",
    "        then calculate variance and expected value and print it and to a data frame \n",
    "        to show for each run as table \n",
    "        then add selectedElement to another List \"selectedElements\"\n",
    "        show histogram of that array\n",
    "        \"\"\"\n",
    "        selectedElement = selectElementFromList(List,True)\n",
    "        selectedElements.append(selectedElement)\n",
    "        expectedValue = np.mean(selectedElements)\n",
    "        variance = calculateVariance(selectedElements,expectedValue)\n",
    "        print (f\"expected value : {expectedValue}, Variance : {variance}\")\n",
    "        plt.hist(selectedElements,range(1,11),density=True,align=\"left\",rwidth=0.5)\n",
    "        plt.xticks(range(1,11))\n",
    "        plt.show()\n",
    "        table[i].append(i)\n",
    "        table[i].append(expectedValue)\n",
    "        table[i].append(variance)\n",
    "        i+=1\n",
    "    check = input(\"do you  want to continue: y/n (n):\")\n",
    "    if(check.lower() == \"y\"):\n",
    "        isContinue = True\n",
    "    else:\n",
    "        isContinue = False\n",
    "    df = pd.DataFrame(table, columns=[\"N\", \"eExpected Value\", \"Variance\"])  \n",
    "    display(df)\n"
   ]
  },
  {
   "cell_type": "markdown",
   "metadata": {},
   "source": [
    "# Section 2"
   ]
  },
  {
   "cell_type": "code",
   "execution_count": null,
   "metadata": {},
   "outputs": [],
   "source": [
    "isContinue = True\n",
    "# main loop \n",
    "table = []\n",
    "j = 0\n",
    "while(isContinue):\n",
    "    N = input(\"what is N: \") # Requesting N from User\n",
    "    i = 0 \n",
    "    sumArray=[]\n",
    "    \n",
    "    while(i<int(N)):\n",
    "        selectedElements = []\n",
    "        \"\"\"\n",
    "        Drawing 4 cards\n",
    "        Suming them all\n",
    "        \"\"\"\n",
    "        List = [1,2,3,4,5,6,7,8,9,10]\n",
    "        selectedElement = selectElementFromList(List,True)\n",
    "        selectedElements.append(selectedElement)\n",
    "        selectedElement = selectElementFromList(List,True)\n",
    "        selectedElements.append(selectedElement)\n",
    "        selectedElement = selectElementFromList(List,True)\n",
    "        selectedElements.append(selectedElement)\n",
    "        selectedElement = selectElementFromList(List,True)\n",
    "        selectedElements.append(selectedElement)\n",
    "        sumOfElements = np.sum(selectedElements)\n",
    "        sumArray.append(sumOfElements)\n",
    "        i+=1\n",
    "    expectedValue = np.mean(sumArray)\n",
    "    variance = calculateVariance(sumArray,expectedValue)\n",
    "    standartDeviation = np.std(sumArray)\n",
    "    table.append([])\n",
    "    table[j].append(N)\n",
    "    table[j].append(expectedValue)\n",
    "    table[j].append(variance)\n",
    "    table[j].append(standartDeviation)\n",
    "    print (f\"expected value : {expectedValue}, Variance : {variance} Standart Deviation: {standartDeviation}\")\n",
    "    plt.hist(sumArray,range(10,35),density=True,align=\"left\",rwidth=0.5)\n",
    "    plt.xticks(range(10,35))\n",
    "    plt.show()\n",
    "    check = input(\"do you  want to continue: y/n (n):\")\n",
    "    if(check.lower() == \"y\"):\n",
    "        isContinue = True\n",
    "    else:\n",
    "        isContinue = False\n",
    "    j+=1\n",
    "df = pd.DataFrame(table, columns=[\"N\", \"Expected Value\", \"Variance\",\"Standart Deviation\"])  \n",
    "display(df)"
   ]
  },
  {
   "cell_type": "markdown",
   "metadata": {},
   "source": [
    "# Section 3"
   ]
  },
  {
   "cell_type": "code",
   "execution_count": null,
   "metadata": {},
   "outputs": [],
   "source": [
    "isContinue = True\n",
    "# main loop \n",
    "table = []\n",
    "i = 0\n",
    "while isContinue:\n",
    "    N = input(\"how many times you want to flip coin?\")\n",
    "    P = input (\"What is probabilty of tail?\")\n",
    "    results = []\n",
    "    for k in range(100):\n",
    "        result = 0;        \n",
    "        for j in range(N):\n",
    "            if(flipCoin(P)):\n",
    "                result+=1;\n",
    "        results.append(result);\n",
    "    table.append([]);\n",
    "    table[i].append(N);\n",
    "    table[i].append(P);\n",
    "    table[i].append(np.mean(results));\n",
    "    table[i].append(calculateVariance(result,np.mean(results)));\n",
    "    i+=1;\n",
    "    check = input(\"Do you wabt to continue y/n(n)\")\n",
    "    if(check.lower()==\"y\")\n",
    "        isContinue = True;\n",
    "    else:\n",
    "        isContinue = False;\n",
    "df = pd.DataFrame(table,[\"N\",\"P\",\"Expected Value\",\"Variance\"])\n",
    "display(df)"
   ]
  },
  {
   "cell_type": "markdown",
   "metadata": {},
   "source": [
    "# Section 4"
   ]
  },
  {
   "cell_type": "code",
   "execution_count": null,
   "metadata": {},
   "outputs": [],
   "source": [
    "isContinue = True\n",
    "# main loop \n",
    "table = []\n",
    "i = 0\n",
    "while isContinue:\n",
    "    L = input(\"What is lambda(average number of people)?\")\n",
    "    results = np.random.poisson(L,100)\n",
    "    table.append([]);\n",
    "    table[i].append(L);\n",
    "    table[i].append(np.mean(results));\n",
    "    table[i].append(calculateVariance(result,np.mean(results)));\n",
    "    check = input(\"Do you want to continue y/n(n)\")\n",
    "    if(check.lower()==\"y\")\n",
    "        isContinue = True;\n",
    "    else:\n",
    "        isContinue = False;\n",
    "df = pd.DataFrame(table,[\"Lambda\",\"Expected Value\",\"Variance\"])\n",
    "display(df)"
   ]
  },
  {
   "cell_type": "markdown",
   "metadata": {},
   "source": [
    "# Section 5\n"
   ]
  },
  {
   "cell_type": "code",
   "execution_count": null,
   "metadata": {},
   "outputs": [],
   "source": [
    "data = sc.loadmat('./data/carsmall_Displacement.mat')['Displacement'].flatten()\n",
    "plt.hist(data,histtype=\"barstacked\",density=True)\n",
    "plt.show()\n",
    "Threshold = int(input(\"What is the choice of your Threshold? \"))\n",
    "countOfDataBeingLessThanThreshold = 0\n",
    "for element in data:\n",
    "    if element<Threshold:\n",
    "        countOfDataBeingLessThanThreshold +=1\n",
    "probabilty = countOfDataBeingLessThanThreshold / len(data)\n",
    "print(f\"Probability of being less than {Threshold} is {probabilty}\")"
   ]
  },
  {
   "cell_type": "code",
   "execution_count": null,
   "metadata": {},
   "outputs": [],
   "source": []
  }
 ],
 "metadata": {
  "kernelspec": {
   "display_name": "Python 3.8.2 64-bit",
   "language": "python",
   "name": "python38264bit6fc4200777c1425ead1913d00d24f15b"
  },
  "language_info": {
   "codemirror_mode": {
    "name": "ipython",
    "version": 3
   },
   "file_extension": ".py",
   "mimetype": "text/x-python",
   "name": "python",
   "nbconvert_exporter": "python",
   "pygments_lexer": "ipython3",
   "version": "3.8.2"
  }
 },
 "nbformat": 4,
 "nbformat_minor": 2
}
