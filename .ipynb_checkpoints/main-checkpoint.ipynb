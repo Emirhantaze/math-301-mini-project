{
 "cells": [
  {
   "cell_type": "markdown",
   "metadata": {},
   "source": [
    "# Dependencies are imported"
   ]
  },
  {
   "cell_type": "code",
   "execution_count": 1,
   "metadata": {},
   "outputs": [],
   "source": [
    "import matplotlib.pyplot as plt\n",
    "import numpy as np\n",
    "import pandas as pd\n",
    "import scipy.io as sc"
   ]
  },
  {
   "cell_type": "markdown",
   "metadata": {},
   "source": [
    "# Function Definitions"
   ]
  },
  {
   "cell_type": "code",
   "execution_count": 2,
   "metadata": {},
   "outputs": [],
   "source": [
    "def selectElementFromList(List,isListChange=False):\n",
    "    \"\"\"\n",
    "    This function created for Selecting an element from List with or without return \n",
    "    I didn't use with return part but it is embeded\n",
    "    \n",
    "    Methodology is \n",
    "    First select a random Index from List \n",
    "    \n",
    "    Than remove that element from this list\n",
    "    !!!!\n",
    "    Important part of this approch is that python uses referances for lists like in many programing languages\n",
    "    That gives power direct manupulation to that list\n",
    "    \n",
    "    Than random selected number is returned\n",
    "    \n",
    "    for With returning case it only retuns rondom selected element from List \n",
    "    \"\"\"\n",
    "    lengthOfList = len(List)\n",
    "    randomSelectedIndex = np.random.randint(0,lengthOfList)\n",
    "    if(isListChange):\n",
    "        randomSelectedElement = List.pop(randomSelectedIndex)\n",
    "        return randomSelectedElement\n",
    "    else:\n",
    "        return List[randomSelectedIndex]\n",
    "\n",
    "def calculateVariance(List:list, expectedValue:float):\n",
    "    \"\"\"\n",
    "    formula is sum/size\n",
    "    sum is sumatian of square of difference of each element with expected value\n",
    "    \"\"\"\n",
    "    size = len(List) # initiating size varible to use it w,th  sum\n",
    "    sum = 0 # innitiating sum varible to use it on variance\n",
    "    for element in List:\n",
    "        temp = element - expectedValue\n",
    "        sum += temp**2\n",
    "    return (sum/size);\n",
    "\n",
    "def flipCoin(p = 0.5):\n",
    "    \"\"\"\n",
    "    methodology is simple\n",
    "    At first a random number generating from a uniform disturibution beetwen 0 and 1\n",
    "    and if that random number is gretear than p result will be possitive  \n",
    "    \"\"\"\n",
    "    randomNumber = np.random.uniform(0,1);\n",
    "    if(p<randomNumber):\n",
    "        return True;\n",
    "    else:\n",
    "        return False;\n",
    "            \n"
   ]
  },
  {
   "cell_type": "markdown",
   "metadata": {},
   "source": [
    "# First Section"
   ]
  },
  {
   "cell_type": "code",
   "execution_count": 3,
   "metadata": {},
   "outputs": [
    {
     "name": "stdout",
     "output_type": "stream",
     "text": [
      "what is N: 1\n",
      "expected value : 10.0, Variance : 0.0\n"
     ]
    },
    {
     "data": {
      "image/png": "[encoded data removed]",
      "text/plain": [
       "<Figure size 432x288 with 1 Axes>"
      ]
     },
     "metadata": {
      "needs_background": "light"
     },
     "output_type": "display_data"
    },
    {
     "data": {
      "text/html": [
       "<div>\n",
       "<style scoped>\n",
       "    .dataframe tbody tr th:only-of-type {\n",
       "        vertical-align: middle;\n",
       "    }\n",
       "\n",
       "    .dataframe tbody tr th {\n",
       "        vertical-align: top;\n",
       "    }\n",
       "\n",
       "    .dataframe thead th {\n",
       "        text-align: right;\n",
       "    }\n",
       "</style>\n",
       "<table border=\"1\" class=\"dataframe\">\n",
       "  <thead>\n",
       "    <tr style=\"text-align: right;\">\n",
       "      <th></th>\n",
       "      <th>N</th>\n",
       "      <th>Expected Value</th>\n",
       "      <th>Variance</th>\n",
       "    </tr>\n",
       "  </thead>\n",
       "  <tbody>\n",
       "    <tr>\n",
       "      <th>0</th>\n",
       "      <td>0</td>\n",
       "      <td>10.0</td>\n",
       "      <td>0.0</td>\n",
       "    </tr>\n",
       "  </tbody>\n",
       "</table>\n",
       "</div>"
      ],
      "text/plain": [
       "   N  Expected Value  Variance\n",
       "0  0            10.0       0.0"
      ]
     },
     "metadata": {},
     "output_type": "display_data"
    },
    {
     "name": "stdout",
     "output_type": "stream",
     "text": [
      "do you  want to continue: y/n (n):y\n",
      "what is N: 2\n",
      "expected value : 9.0, Variance : 0.0\n"
     ]
    },
    {
     "data": {
      "image/png": "[encoded data removed]",
      "text/plain": [
       "<Figure size 432x288 with 1 Axes>"
      ]
     },
     "metadata": {
      "needs_background": "light"
     },
     "output_type": "display_data"
    },
    {
     "name": "stdout",
     "output_type": "stream",
     "text": [
      "expected value : 6.0, Variance : 9.0\n"
     ]
    },
    {
     "data": {
      "image/png": "[encoded data removed]",
      "text/plain": [
       "<Figure size 432x288 with 1 Axes>"
      ]
     },
     "metadata": {
      "needs_background": "light"
     },
     "output_type": "display_data"
    },
    {
     "data": {
      "text/html": [
       "<div>\n",
       "<style scoped>\n",
       "    .dataframe tbody tr th:only-of-type {\n",
       "        vertical-align: middle;\n",
       "    }\n",
       "\n",
       "    .dataframe tbody tr th {\n",
       "        vertical-align: top;\n",
       "    }\n",
       "\n",
       "    .dataframe thead th {\n",
       "        text-align: right;\n",
       "    }\n",
       "</style>\n",
       "<table border=\"1\" class=\"dataframe\">\n",
       "  <thead>\n",
       "    <tr style=\"text-align: right;\">\n",
       "      <th></th>\n",
       "      <th>N</th>\n",
       "      <th>Expected Value</th>\n",
       "      <th>Variance</th>\n",
       "    </tr>\n",
       "  </thead>\n",
       "  <tbody>\n",
       "    <tr>\n",
       "      <th>0</th>\n",
       "      <td>0</td>\n",
       "      <td>9.0</td>\n",
       "      <td>0.0</td>\n",
       "    </tr>\n",
       "    <tr>\n",
       "      <th>1</th>\n",
       "      <td>1</td>\n",
       "      <td>6.0</td>\n",
       "      <td>9.0</td>\n",
       "    </tr>\n",
       "  </tbody>\n",
       "</table>\n",
       "</div>"
      ],
      "text/plain": [
       "   N  Expected Value  Variance\n",
       "0  0             9.0       0.0\n",
       "1  1             6.0       9.0"
      ]
     },
     "metadata": {},
     "output_type": "display_data"
    },
    {
     "name": "stdout",
     "output_type": "stream",
     "text": [
      "do you  want to continue: y/n (n):n\n"
     ]
    }
   ],
   "source": [
    "List = [1,2,3,4,5,6,7,8,9,10]\n",
    "isContinue = True\n",
    "# main loop \n",
    "while(isContinue):\n",
    "    N = input(\"what is N: \") # Requesting N from User\n",
    "    i = 0 \n",
    "    selectedElements = []\n",
    "    table = []\n",
    "    while(i<int(N)):\n",
    "        \"\"\"\n",
    "        main flow of loop\n",
    "        first use selectElementFromlist() for removing one varible\n",
    "        then calculate variance and expected value and print it and to a data frame \n",
    "        to show for each run as table \n",
    "        then add selectedElement to another List \"selectedElements\"\n",
    "        show histogram of that array\n",
    "        \"\"\"\n",
    "        selectedElement = selectElementFromList(List,True)\n",
    "        selectedElements.append(selectedElement)\n",
    "        expectedValue = np.mean(selectedElements)\n",
    "        variance = calculateVariance(selectedElements,expectedValue)\n",
    "        print (f\"expected value : {expectedValue}, Variance : {variance}\")\n",
    "        plt.hist(selectedElements,range(1,11),density=True,align=\"left\",rwidth=0.5)\n",
    "        plt.xticks(range(1,11))\n",
    "        plt.show()\n",
    "        table.append([])\n",
    "        table[i].append(i)\n",
    "        table[i].append(expectedValue)\n",
    "        table[i].append(variance)\n",
    "        i+=1\n",
    "    df = pd.DataFrame(table, columns=[\"N\", \"Expected Value\", \"Variance\"])  \n",
    "    display(df)\n",
    "    #checking if user want to continue to tests \n",
    "    check = input(\"do you  want to continue: y/n (n):\")\n",
    "    if(check.lower() == \"y\"):\n",
    "        isContinue = True\n",
    "    else:\n",
    "        isContinue = False\n",
    "\n"
   ]
  },
  {
   "cell_type": "markdown",
   "metadata": {},
   "source": [
    "# Section 2"
   ]
  },
  {
   "cell_type": "code",
   "execution_count": 4,
   "metadata": {},
   "outputs": [
    {
     "name": "stdout",
     "output_type": "stream",
     "text": [
      "what is N: 5\n",
      "expected value : 21.0, Variance : 4.4 Standart Deviation: 2.0976176963403033\n"
     ]
    },
    {
     "data": {
      "image/png": "[encoded data removed]",
      "text/plain": [
       "<Figure size 432x288 with 1 Axes>"
      ]
     },
     "metadata": {
      "needs_background": "light"
     },
     "output_type": "display_data"
    },
    {
     "name": "stdout",
     "output_type": "stream",
     "text": [
      "do you  want to continue: y/n (n):y\n",
      "what is N: 18\n",
      "expected value : 21.555555555555557, Variance : 17.246913580246915 Standart Deviation: 4.15294035356239\n"
     ]
    },
    {
     "data": {
      "image/png": "[encoded data removed]",
      "text/plain": [
       "<Figure size 432x288 with 1 Axes>"
      ]
     },
     "metadata": {
      "needs_background": "light"
     },
     "output_type": "display_data"
    },
    {
     "name": "stdout",
     "output_type": "stream",
     "text": [
      "do you  want to continue: y/n (n):n\n"
     ]
    },
    {
     "data": {
      "text/html": [
       "<div>\n",
       "<style scoped>\n",
       "    .dataframe tbody tr th:only-of-type {\n",
       "        vertical-align: middle;\n",
       "    }\n",
       "\n",
       "    .dataframe tbody tr th {\n",
       "        vertical-align: top;\n",
       "    }\n",
       "\n",
       "    .dataframe thead th {\n",
       "        text-align: right;\n",
       "    }\n",
       "</style>\n",
       "<table border=\"1\" class=\"dataframe\">\n",
       "  <thead>\n",
       "    <tr style=\"text-align: right;\">\n",
       "      <th></th>\n",
       "      <th>N</th>\n",
       "      <th>Expected Value</th>\n",
       "      <th>Variance</th>\n",
       "      <th>Standart Deviation</th>\n",
       "    </tr>\n",
       "  </thead>\n",
       "  <tbody>\n",
       "    <tr>\n",
       "      <th>0</th>\n",
       "      <td>5</td>\n",
       "      <td>21.000000</td>\n",
       "      <td>4.400000</td>\n",
       "      <td>2.097618</td>\n",
       "    </tr>\n",
       "    <tr>\n",
       "      <th>1</th>\n",
       "      <td>18</td>\n",
       "      <td>21.555556</td>\n",
       "      <td>17.246914</td>\n",
       "      <td>4.152940</td>\n",
       "    </tr>\n",
       "  </tbody>\n",
       "</table>\n",
       "</div>"
      ],
      "text/plain": [
       "    N  Expected Value   Variance  Standart Deviation\n",
       "0   5       21.000000   4.400000            2.097618\n",
       "1  18       21.555556  17.246914            4.152940"
      ]
     },
     "metadata": {},
     "output_type": "display_data"
    }
   ],
   "source": [
    "isContinue = True\n",
    "# main loop \n",
    "table = []\n",
    "j = 0\n",
    "while(isContinue):\n",
    "    N = input(\"what is N: \") # Requesting N from User\n",
    "    i = 0 \n",
    "    sumArray=[]\n",
    "    \n",
    "    while(i<int(N)):\n",
    "        selectedElements = []\n",
    "        \"\"\"\n",
    "        Drawing 4 cards\n",
    "        Suming them all and add that sum to another to Calculate Varince Standart deviation and Expected Value\n",
    "        \"\"\"\n",
    "        List = [1,2,3,4,5,6,7,8,9,10]\n",
    "        selectedElement = selectElementFromList(List,True)\n",
    "        selectedElements.append(selectedElement)\n",
    "        selectedElement = selectElementFromList(List,True)\n",
    "        selectedElements.append(selectedElement)\n",
    "        selectedElement = selectElementFromList(List,True)\n",
    "        selectedElements.append(selectedElement)\n",
    "        selectedElement = selectElementFromList(List,True)\n",
    "        selectedElements.append(selectedElement)\n",
    "        sumOfElements = np.sum(selectedElements)\n",
    "        sumArray.append(sumOfElements)\n",
    "        i+=1\n",
    "    \"\"\"\n",
    "    Calculatian of abovesaid stuff \n",
    "    \"\"\"\n",
    "    expectedValue = np.mean(sumArray)\n",
    "    # In that line a user defined function is used. It is described above in functions part\n",
    "    variance = calculateVariance(sumArray,expectedValue)\n",
    "    standartDeviation = np.std(sumArray)\n",
    "    \"\"\"\n",
    "    adding them to a table to show the result to user\n",
    "    \"\"\"\n",
    "    table.append([])\n",
    "    table[j].append(N)\n",
    "    table[j].append(expectedValue)\n",
    "    table[j].append(variance)\n",
    "    table[j].append(standartDeviation)\n",
    "    \"\"\"\n",
    "    Showing results\n",
    "    \"\"\"\n",
    "    print (f\"expected value : {expectedValue}, Variance : {variance} Standart Deviation: {standartDeviation}\")\n",
    "    plt.hist(sumArray,range(10,35),density=True,align=\"left\",rwidth=0.5)\n",
    "    plt.xticks(range(10,35))\n",
    "    plt.show()\n",
    "    \"\"\"\n",
    "    Running a check function if user want to run once more \n",
    "    \"\"\"\n",
    "    check = input(\"do you  want to continue: y/n (n):\")\n",
    "    if(check.lower() == \"y\"):\n",
    "        isContinue = True\n",
    "    else:\n",
    "        isContinue = False\n",
    "    j+=1\n",
    "\"\"\"\n",
    "Showing results\n",
    "\"\"\"\n",
    "df = pd.DataFrame(table, columns=[\"N\", \"Expected Value\", \"Variance\",\"Standart Deviation\"])  \n",
    "display(df)"
   ]
  },
  {
   "cell_type": "markdown",
   "metadata": {},
   "source": [
    "# Section 3"
   ]
  },
  {
   "cell_type": "code",
   "execution_count": 8,
   "metadata": {},
   "outputs": [
    {
     "name": "stdout",
     "output_type": "stream",
     "text": [
      "how many times you want to flip coin? 5\n",
      "What is probabilty of tail? 0.7\n",
      "Do you want to continue y/n(n)y\n",
      "how many times you want to flip coin? 7\n",
      "What is probabilty of tail? 0.2\n",
      "Do you want to continue y/n(n)n\n"
     ]
    },
    {
     "data": {
      "text/html": [
       "<div>\n",
       "<style scoped>\n",
       "    .dataframe tbody tr th:only-of-type {\n",
       "        vertical-align: middle;\n",
       "    }\n",
       "\n",
       "    .dataframe tbody tr th {\n",
       "        vertical-align: top;\n",
       "    }\n",
       "\n",
       "    .dataframe thead th {\n",
       "        text-align: right;\n",
       "    }\n",
       "</style>\n",
       "<table border=\"1\" class=\"dataframe\">\n",
       "  <thead>\n",
       "    <tr style=\"text-align: right;\">\n",
       "      <th></th>\n",
       "      <th>N</th>\n",
       "      <th>P</th>\n",
       "      <th>Expected Value</th>\n",
       "      <th>Variance</th>\n",
       "    </tr>\n",
       "  </thead>\n",
       "  <tbody>\n",
       "    <tr>\n",
       "      <th>0</th>\n",
       "      <td>5</td>\n",
       "      <td>0.7</td>\n",
       "      <td>1.38</td>\n",
       "      <td>1.0356</td>\n",
       "    </tr>\n",
       "    <tr>\n",
       "      <th>1</th>\n",
       "      <td>7</td>\n",
       "      <td>0.2</td>\n",
       "      <td>5.56</td>\n",
       "      <td>1.2264</td>\n",
       "    </tr>\n",
       "  </tbody>\n",
       "</table>\n",
       "</div>"
      ],
      "text/plain": [
       "   N    P  Expected Value  Variance\n",
       "0  5  0.7            1.38    1.0356\n",
       "1  7  0.2            5.56    1.2264"
      ]
     },
     "metadata": {},
     "output_type": "display_data"
    }
   ],
   "source": [
    "isContinue = True\n",
    "# main loop \n",
    "table = []\n",
    "i = 0\n",
    "while isContinue:\n",
    "    N = int(input(\"how many times you want to flip coin? \"))\n",
    "    P = float(input (\"What is probabilty of tail? \"))\n",
    "    results = []\n",
    "    \"\"\"\n",
    "    In that part 100 of 10 times coin will be filliep and calculations made  out this runs \n",
    "    100 is an arbitary number but I think it is okey for understanding the main shape and calculating \n",
    "    results\n",
    "     \"\"\"\n",
    "    for k in range(100):\n",
    "        result = 0;        \n",
    "        for j in range(N):\n",
    "            if(flipCoin(P)):\n",
    "                result+=1;\n",
    "        results.append(result);\n",
    "    \"\"\"\n",
    "    results will be added to table but in that part\n",
    "    I'm used different approch calculating inside of the funtion\n",
    "    This appoch better than creating a varible if you are not using it multiple times\n",
    "    \"\"\"\n",
    "    table.append([]);\n",
    "    table[i].append(N);\n",
    "    table[i].append(P);\n",
    "    table[i].append(np.mean(results));\n",
    "    table[i].append(calculateVariance(results,np.mean(results)));\n",
    "    i+=1;\n",
    "    \"\"\"\n",
    "    Same produces as in the previous questions\n",
    "    \"\"\"\n",
    "    check = input(\"Do you want to continue y/n(n)\")\n",
    "    if(check.lower()==\"y\"):\n",
    "        isContinue = True;\n",
    "    else:\n",
    "        isContinue = False;\n",
    "\"\"\"\n",
    "printing out table\n",
    "\"\"\"\n",
    "df = pd.DataFrame(table, columns = [\"N\",\"P\",\"Expected Value\",\"Variance\"])\n",
    "display(df)"
   ]
  },
  {
   "cell_type": "markdown",
   "metadata": {},
   "source": [
    "# Section 4"
   ]
  },
  {
   "cell_type": "code",
   "execution_count": 10,
   "metadata": {},
   "outputs": [
    {
     "name": "stdout",
     "output_type": "stream",
     "text": [
      "What is lambda(average number of people)? 20\n",
      "Do you want to continue y/n(n)y\n",
      "What is lambda(average number of people)? 50\n",
      "Do you want to continue y/n(n)n\n"
     ]
    },
    {
     "ename": "ValueError",
     "evalue": "3 columns passed, passed data had 6 columns",
     "output_type": "error",
     "traceback": [
      "\u001b[1;31m---------------------------------------------------------------------------\u001b[0m",
      "\u001b[1;31mAssertionError\u001b[0m                            Traceback (most recent call last)",
      "\u001b[1;32mC:\\Python38\\lib\\site-packages\\pandas\\core\\internals\\construction.py\u001b[0m in \u001b[0;36m_list_to_arrays\u001b[1;34m(data, columns, coerce_float, dtype)\u001b[0m\n\u001b[0;32m    495\u001b[0m     \u001b[1;32mtry\u001b[0m\u001b[1;33m:\u001b[0m\u001b[1;33m\u001b[0m\u001b[1;33m\u001b[0m\u001b[0m\n\u001b[1;32m--> 496\u001b[1;33m         result = _convert_object_array(\n\u001b[0m\u001b[0;32m    497\u001b[0m             \u001b[0mcontent\u001b[0m\u001b[1;33m,\u001b[0m \u001b[0mcolumns\u001b[0m\u001b[1;33m,\u001b[0m \u001b[0mdtype\u001b[0m\u001b[1;33m=\u001b[0m\u001b[0mdtype\u001b[0m\u001b[1;33m,\u001b[0m \u001b[0mcoerce_float\u001b[0m\u001b[1;33m=\u001b[0m\u001b[0mcoerce_float\u001b[0m\u001b[1;33m\u001b[0m\u001b[1;33m\u001b[0m\u001b[0m\n",
      "\u001b[1;32mC:\\Python38\\lib\\site-packages\\pandas\\core\\internals\\construction.py\u001b[0m in \u001b[0;36m_convert_object_array\u001b[1;34m(content, columns, coerce_float, dtype)\u001b[0m\n\u001b[0;32m    579\u001b[0m             \u001b[1;31m# caller's responsibility to check for this...\u001b[0m\u001b[1;33m\u001b[0m\u001b[1;33m\u001b[0m\u001b[1;33m\u001b[0m\u001b[0m\n\u001b[1;32m--> 580\u001b[1;33m             raise AssertionError(\n\u001b[0m\u001b[0;32m    581\u001b[0m                 \u001b[1;34mf\"{len(columns)} columns passed, passed data had \"\u001b[0m\u001b[1;33m\u001b[0m\u001b[1;33m\u001b[0m\u001b[0m\n",
      "\u001b[1;31mAssertionError\u001b[0m: 3 columns passed, passed data had 6 columns",
      "\nThe above exception was the direct cause of the following exception:\n",
      "\u001b[1;31mValueError\u001b[0m                                Traceback (most recent call last)",
      "\u001b[1;32m<ipython-input-10-d1899079cb04>\u001b[0m in \u001b[0;36m<module>\u001b[1;34m\u001b[0m\n\u001b[0;32m     26\u001b[0m \u001b[0mprinting\u001b[0m \u001b[0mout\u001b[0m \u001b[0mtable\u001b[0m\u001b[1;33m\u001b[0m\u001b[1;33m\u001b[0m\u001b[0m\n\u001b[0;32m     27\u001b[0m \"\"\"\n\u001b[1;32m---> 28\u001b[1;33m \u001b[0mdf\u001b[0m \u001b[1;33m=\u001b[0m \u001b[0mpd\u001b[0m\u001b[1;33m.\u001b[0m\u001b[0mDataFrame\u001b[0m\u001b[1;33m(\u001b[0m\u001b[0mtable\u001b[0m\u001b[1;33m,\u001b[0m\u001b[0mcolumns\u001b[0m\u001b[1;33m=\u001b[0m\u001b[1;33m[\u001b[0m\u001b[1;34m\"Lambda\"\u001b[0m\u001b[1;33m,\u001b[0m\u001b[1;34m\"Expected Value\"\u001b[0m\u001b[1;33m,\u001b[0m\u001b[1;34m\"Variance\"\u001b[0m\u001b[1;33m]\u001b[0m\u001b[1;33m)\u001b[0m\u001b[1;33m\u001b[0m\u001b[1;33m\u001b[0m\u001b[0m\n\u001b[0m\u001b[0;32m     29\u001b[0m \u001b[0mdisplay\u001b[0m\u001b[1;33m(\u001b[0m\u001b[0mdf\u001b[0m\u001b[1;33m)\u001b[0m\u001b[1;33m\u001b[0m\u001b[1;33m\u001b[0m\u001b[0m\n",
      "\u001b[1;32mC:\\Python38\\lib\\site-packages\\pandas\\core\\frame.py\u001b[0m in \u001b[0;36m__init__\u001b[1;34m(self, data, index, columns, dtype, copy)\u001b[0m\n\u001b[0;32m    472\u001b[0m                     \u001b[1;32mif\u001b[0m \u001b[0mis_named_tuple\u001b[0m\u001b[1;33m(\u001b[0m\u001b[0mdata\u001b[0m\u001b[1;33m[\u001b[0m\u001b[1;36m0\u001b[0m\u001b[1;33m]\u001b[0m\u001b[1;33m)\u001b[0m \u001b[1;32mand\u001b[0m \u001b[0mcolumns\u001b[0m \u001b[1;32mis\u001b[0m \u001b[1;32mNone\u001b[0m\u001b[1;33m:\u001b[0m\u001b[1;33m\u001b[0m\u001b[1;33m\u001b[0m\u001b[0m\n\u001b[0;32m    473\u001b[0m                         \u001b[0mcolumns\u001b[0m \u001b[1;33m=\u001b[0m \u001b[0mdata\u001b[0m\u001b[1;33m[\u001b[0m\u001b[1;36m0\u001b[0m\u001b[1;33m]\u001b[0m\u001b[1;33m.\u001b[0m\u001b[0m_fields\u001b[0m\u001b[1;33m\u001b[0m\u001b[1;33m\u001b[0m\u001b[0m\n\u001b[1;32m--> 474\u001b[1;33m                     \u001b[0marrays\u001b[0m\u001b[1;33m,\u001b[0m \u001b[0mcolumns\u001b[0m \u001b[1;33m=\u001b[0m \u001b[0mto_arrays\u001b[0m\u001b[1;33m(\u001b[0m\u001b[0mdata\u001b[0m\u001b[1;33m,\u001b[0m \u001b[0mcolumns\u001b[0m\u001b[1;33m,\u001b[0m \u001b[0mdtype\u001b[0m\u001b[1;33m=\u001b[0m\u001b[0mdtype\u001b[0m\u001b[1;33m)\u001b[0m\u001b[1;33m\u001b[0m\u001b[1;33m\u001b[0m\u001b[0m\n\u001b[0m\u001b[0;32m    475\u001b[0m                     \u001b[0mcolumns\u001b[0m \u001b[1;33m=\u001b[0m \u001b[0mensure_index\u001b[0m\u001b[1;33m(\u001b[0m\u001b[0mcolumns\u001b[0m\u001b[1;33m)\u001b[0m\u001b[1;33m\u001b[0m\u001b[1;33m\u001b[0m\u001b[0m\n\u001b[0;32m    476\u001b[0m \u001b[1;33m\u001b[0m\u001b[0m\n",
      "\u001b[1;32mC:\\Python38\\lib\\site-packages\\pandas\\core\\internals\\construction.py\u001b[0m in \u001b[0;36mto_arrays\u001b[1;34m(data, columns, coerce_float, dtype)\u001b[0m\n\u001b[0;32m    459\u001b[0m         \u001b[1;32mreturn\u001b[0m \u001b[1;33m[\u001b[0m\u001b[1;33m]\u001b[0m\u001b[1;33m,\u001b[0m \u001b[1;33m[\u001b[0m\u001b[1;33m]\u001b[0m  \u001b[1;31m# columns if columns is not None else []\u001b[0m\u001b[1;33m\u001b[0m\u001b[1;33m\u001b[0m\u001b[0m\n\u001b[0;32m    460\u001b[0m     \u001b[1;32mif\u001b[0m \u001b[0misinstance\u001b[0m\u001b[1;33m(\u001b[0m\u001b[0mdata\u001b[0m\u001b[1;33m[\u001b[0m\u001b[1;36m0\u001b[0m\u001b[1;33m]\u001b[0m\u001b[1;33m,\u001b[0m \u001b[1;33m(\u001b[0m\u001b[0mlist\u001b[0m\u001b[1;33m,\u001b[0m \u001b[0mtuple\u001b[0m\u001b[1;33m)\u001b[0m\u001b[1;33m)\u001b[0m\u001b[1;33m:\u001b[0m\u001b[1;33m\u001b[0m\u001b[1;33m\u001b[0m\u001b[0m\n\u001b[1;32m--> 461\u001b[1;33m         \u001b[1;32mreturn\u001b[0m \u001b[0m_list_to_arrays\u001b[0m\u001b[1;33m(\u001b[0m\u001b[0mdata\u001b[0m\u001b[1;33m,\u001b[0m \u001b[0mcolumns\u001b[0m\u001b[1;33m,\u001b[0m \u001b[0mcoerce_float\u001b[0m\u001b[1;33m=\u001b[0m\u001b[0mcoerce_float\u001b[0m\u001b[1;33m,\u001b[0m \u001b[0mdtype\u001b[0m\u001b[1;33m=\u001b[0m\u001b[0mdtype\u001b[0m\u001b[1;33m)\u001b[0m\u001b[1;33m\u001b[0m\u001b[1;33m\u001b[0m\u001b[0m\n\u001b[0m\u001b[0;32m    462\u001b[0m     \u001b[1;32melif\u001b[0m \u001b[0misinstance\u001b[0m\u001b[1;33m(\u001b[0m\u001b[0mdata\u001b[0m\u001b[1;33m[\u001b[0m\u001b[1;36m0\u001b[0m\u001b[1;33m]\u001b[0m\u001b[1;33m,\u001b[0m \u001b[0mabc\u001b[0m\u001b[1;33m.\u001b[0m\u001b[0mMapping\u001b[0m\u001b[1;33m)\u001b[0m\u001b[1;33m:\u001b[0m\u001b[1;33m\u001b[0m\u001b[1;33m\u001b[0m\u001b[0m\n\u001b[0;32m    463\u001b[0m         return _list_of_dict_to_arrays(\n",
      "\u001b[1;32mC:\\Python38\\lib\\site-packages\\pandas\\core\\internals\\construction.py\u001b[0m in \u001b[0;36m_list_to_arrays\u001b[1;34m(data, columns, coerce_float, dtype)\u001b[0m\n\u001b[0;32m    498\u001b[0m         )\n\u001b[0;32m    499\u001b[0m     \u001b[1;32mexcept\u001b[0m \u001b[0mAssertionError\u001b[0m \u001b[1;32mas\u001b[0m \u001b[0me\u001b[0m\u001b[1;33m:\u001b[0m\u001b[1;33m\u001b[0m\u001b[1;33m\u001b[0m\u001b[0m\n\u001b[1;32m--> 500\u001b[1;33m         \u001b[1;32mraise\u001b[0m \u001b[0mValueError\u001b[0m\u001b[1;33m(\u001b[0m\u001b[0me\u001b[0m\u001b[1;33m)\u001b[0m \u001b[1;32mfrom\u001b[0m \u001b[0me\u001b[0m\u001b[1;33m\u001b[0m\u001b[1;33m\u001b[0m\u001b[0m\n\u001b[0m\u001b[0;32m    501\u001b[0m     \u001b[1;32mreturn\u001b[0m \u001b[0mresult\u001b[0m\u001b[1;33m\u001b[0m\u001b[1;33m\u001b[0m\u001b[0m\n\u001b[0;32m    502\u001b[0m \u001b[1;33m\u001b[0m\u001b[0m\n",
      "\u001b[1;31mValueError\u001b[0m: 3 columns passed, passed data had 6 columns"
     ]
    }
   ],
   "source": [
    "isContinue = True\n",
    "# main loop \n",
    "table = []\n",
    "i = 0\n",
    "while isContinue:\n",
    "    #requesting Lamda from user\n",
    "    L = int(input(\"What is lambda(average number of people)? \"))\n",
    "    \"\"\"\n",
    "    as like in previous question I think 100 will be okay for calculating outcomes \n",
    "    this create 100 different number with lambda parameter using poisson distribution\n",
    "    \"\"\"\n",
    "    results = np.random.poisson(L,100)\n",
    "    table.append([]);\n",
    "    table[i].append(L);\n",
    "    table[i].append(np.mean(results));\n",
    "    table[i].append(calculateVariance(results,np.mean(results)));\n",
    "    \"\"\"\n",
    "    Same produces as in the previous questions\n",
    "    \"\"\"\n",
    "    i+=1\n",
    "    check = input(\"Do you want to continue y/n(n)\")\n",
    "    if(check.lower()==\"y\"):\n",
    "        isContinue = True;\n",
    "    else:\n",
    "        isContinue = False;\n",
    "\"\"\"\n",
    "printing out table\n",
    "\"\"\"\n",
    "df = pd.DataFrame(table,columns=[\"Lambda\",\"Expected Value\",\"Variance\"])\n",
    "display(df)"
   ]
  },
  {
   "cell_type": "markdown",
   "metadata": {},
   "source": [
    "# Section 5\n"
   ]
  },
  {
   "cell_type": "code",
   "execution_count": null,
   "metadata": {},
   "outputs": [],
   "source": [
    "# loading mat file which is gathered from matlab CarSmall sample data set\n",
    "data = sc.loadmat('./data/carsmall_Displacement.mat')['Displacement'].flatten()\n",
    "# plotting histogram \n",
    "plt.hist(data,histtype=\"barstacked\",density=True)\n",
    "plt.show()\n",
    "# Requesting threshold value from user\n",
    "Threshold = int(input(\"What is the choice of your Threshold? \"))\n",
    "\"\"\"\n",
    "The methodology here is checking every value with threshold if the valeu\n",
    "is greater counter will increase by 1 then result will countNumber/DataSize\n",
    "\"\"\"\n",
    "countOfDataBeingLessThanThreshold = 0\n",
    "for element in data:\n",
    "    if element<Threshold:\n",
    "        countOfDataBeingLessThanThreshold +=1\n",
    "probabilty = countOfDataBeingLessThanThreshold / len(data)\n",
    "# Printing Out the result\n",
    "print(f\"Probability of being less than {Threshold} is {probabilty}\")"
   ]
  },
  {
   "cell_type": "code",
   "execution_count": null,
   "metadata": {},
   "outputs": [],
   "source": []
  }
 ],
 "metadata": {
  "kernelspec": {
   "display_name": "Python 3.8.2 64-bit",
   "language": "python",
   "name": "python38264bit6fc4200777c1425ead1913d00d24f15b"
  },
  "language_info": {
   "codemirror_mode": {
    "name": "ipython",
    "version": 3
   },
   "file_extension": ".py",
   "mimetype": "text/x-python",
   "name": "python",
   "nbconvert_exporter": "python",
   "pygments_lexer": "ipython3",
   "version": "3.8.2"
  }
 },
 "nbformat": 4,
 "nbformat_minor": 2
}
